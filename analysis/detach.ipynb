{
 "cells": [
  {
   "cell_type": "code",
   "execution_count": 2,
   "metadata": {},
   "outputs": [],
   "source": [
    "import torch\n",
    "import torch.nn as nn\n",
    "import torch.optim as optim\n",
    "from torch.autograd import Variable"
   ]
  },
  {
   "cell_type": "code",
   "execution_count": 52,
   "metadata": {},
   "outputs": [
    {
     "name": "stdout",
     "output_type": "stream",
     "text": [
      "\n",
      "Training with lossA:\n",
      "modelA weights: 2.73, modelB weights: 0.39\n",
      "modelA weights: 2.65, modelB weights: 0.39\n",
      "modelA weights: 2.56, modelB weights: 0.39\n",
      "\n",
      "Training with lossB:\n",
      "modelA weights: 2.48, modelB weights: 0.39\n",
      "modelA weights: 2.51, modelB weights: 0.52\n",
      "modelA weights: 2.48, modelB weights: 0.46\n",
      "\n",
      "Detached training with lossA:\n",
      "modelA weights: 2.50, modelB weights: 0.46\n",
      "modelA weights: 2.41, modelB weights: 0.46\n",
      "modelA weights: 2.33, modelB weights: 0.46\n",
      "\n",
      "Detached training with lossB:\n",
      "modelA weights: 2.24, modelB weights: 0.46\n",
      "modelA weights: 2.24, modelB weights: 0.55\n",
      "modelA weights: 2.24, modelB weights: 0.33\n"
     ]
    }
   ],
   "source": [
    "x0 = torch.randn(128, 1)\n",
    "x = Variable(x0)\n",
    "y = Variable(x0, requires_grad=False)\n",
    "modelA = nn.Linear(1, 32, bias=True)\n",
    "modelB = nn.Linear(32, 1, bias=True)\n",
    "model = nn.Sequential(modelA, modelB)\n",
    "optimizer = optim.SGD(model.parameters(), lr=1e-1)\n",
    "\n",
    "\n",
    "def lossA(z, _):\n",
    "    return z.mean()\n",
    "\n",
    "\n",
    "def lossB(_, y_pred):\n",
    "    return ((y_pred - y) ** 2).mean()\n",
    "\n",
    "\n",
    "# Regular training steps:\n",
    "for n, loss_fn in [(\"lossA\", lossA), (\"lossB\", lossB)]:\n",
    "    print(f\"\\nTraining with {n}:\")\n",
    "    for t in range(3):\n",
    "        optimizer.zero_grad()\n",
    "        z = modelA(x)\n",
    "        y_pred = modelB(z)\n",
    "        A = sum([l.sum() for l in modelA.parameters()])\n",
    "        B = sum([l.sum() for l in modelB.parameters()])\n",
    "        loss = loss_fn(z, y_pred)\n",
    "        print(f\"modelA weights: {A.item():.2f}, modelB weights: {B.item():.2f}\")\n",
    "        loss.backward()\n",
    "        optimizer.step()\n",
    "\n",
    "\n",
    "# Detached training steps:\n",
    "for n, loss_fn in [(\"lossA\", lossA), (\"lossB\", lossB)]:\n",
    "    print(f\"\\nDetached training with {n}:\")\n",
    "    for t in range(3):\n",
    "        optimizer.zero_grad()\n",
    "        z = modelA(x)\n",
    "        y_pred = modelB(z.detach())\n",
    "        A = sum([l.sum() for l in modelA.parameters()])\n",
    "        B = sum([l.sum() for l in modelB.parameters()])\n",
    "        loss = loss_fn(z, y_pred)\n",
    "        print(f\"modelA weights: {A.item():.2f}, modelB weights: {B.item():.2f}\")\n",
    "        loss.backward()\n",
    "        optimizer.step()"
   ]
  },
  {
   "cell_type": "code",
   "execution_count": null,
   "metadata": {},
   "outputs": [],
   "source": []
  }
 ],
 "metadata": {
  "kernelspec": {
   "display_name": "caveat",
   "language": "python",
   "name": "python3"
  },
  "language_info": {
   "codemirror_mode": {
    "name": "ipython",
    "version": 3
   },
   "file_extension": ".py",
   "mimetype": "text/x-python",
   "name": "python",
   "nbconvert_exporter": "python",
   "pygments_lexer": "ipython3",
   "version": "3.12.6"
  }
 },
 "nbformat": 4,
 "nbformat_minor": 2
}
