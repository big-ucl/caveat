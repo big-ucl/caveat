{
 "cells": [
  {
   "cell_type": "code",
   "execution_count": 1,
   "metadata": {},
   "outputs": [],
   "source": [
    "import torch\n",
    "from torch import nn"
   ]
  },
  {
   "cell_type": "code",
   "execution_count": 16,
   "metadata": {},
   "outputs": [
    {
     "name": "stdout",
     "output_type": "stream",
     "text": [
      "10 16 ==> 10 7\n",
      "10 7 ==> 10 3\n",
      "[(10, 16), (10, 7), (10, 3)]\n",
      "[(10, 3), (10, 7), (10, 16)]\n",
      "10 3 ==> 10 7 1\n",
      "8\n",
      "10 7 ==> 10 16 0\n",
      "15\n",
      "torch.Size([32, 10, 16])\n",
      "torch.Size([32, 10, 3])\n",
      "torch.Size([32, 10, 17])\n"
     ]
    }
   ],
   "source": [
    "batch_size = 32\n",
    "height = 10\n",
    "length = 16\n",
    "x = torch.randn(batch_size, height, length)\n",
    "\n",
    "hidden = [10, 10]\n",
    "kernel_size = 3\n",
    "stride = 2\n",
    "padding = 0\n",
    "\n",
    "\n",
    "def calculate_output_length(\n",
    "    length_in, kernel_size, stride=1, padding=0, dilation=1\n",
    "):\n",
    "    return (\n",
    "        length_in + 2 * padding - dilation * (kernel_size - 1) - 1\n",
    "    ) // stride + 1\n",
    "\n",
    "\n",
    "def deconv_size(\n",
    "    length, kernel_size, stride, padding, output_padding, dilation=1\n",
    "):\n",
    "    return (\n",
    "        (length - 1) * stride\n",
    "        - 2 * padding\n",
    "        + dilation * (kernel_size - 1)\n",
    "        + output_padding\n",
    "        + 1\n",
    "    )\n",
    "\n",
    "\n",
    "shapes = []\n",
    "encoder = []\n",
    "channels = height\n",
    "\n",
    "for h in hidden:\n",
    "    shapes.append((channels, length))\n",
    "    conv = nn.Conv1d(\n",
    "        in_channels=channels,\n",
    "        out_channels=h,\n",
    "        kernel_size=kernel_size,\n",
    "        stride=stride,\n",
    "        padding=padding,\n",
    "    )\n",
    "    encoder.append(conv)\n",
    "    new_length = calculate_output_length(length, kernel_size, stride, padding)\n",
    "    print(channels, length, \"==>\", h, new_length)\n",
    "    length = new_length\n",
    "    channels = h\n",
    "\n",
    "shapes.append((channels, length))\n",
    "encoder = nn.Sequential(*encoder)\n",
    "print(shapes)\n",
    "shapes.reverse()\n",
    "print(shapes)\n",
    "\n",
    "decoder = []\n",
    "for i in range(len(hidden)):\n",
    "    channels_in, length_in = shapes[i]\n",
    "    channels_out, length_out = shapes[i + 1]\n",
    "    if length_out % 2 == 0:  # even\n",
    "        pad = 0\n",
    "    else:\n",
    "        pad = 1\n",
    "    print(channels_in, length_in, \"==>\", channels_out, length_out, pad)\n",
    "    expected = deconv_size(length_in, kernel_size, stride, padding, pad)\n",
    "    print(expected)\n",
    "    conv = nn.ConvTranspose1d(\n",
    "        in_channels=channels_in,\n",
    "        out_channels=channels_out,\n",
    "        kernel_size=kernel_size,\n",
    "        stride=stride,\n",
    "        padding=padding,\n",
    "        output_padding=pad,\n",
    "    )\n",
    "    decoder.append(conv)\n",
    "decoder = nn.Sequential(*decoder)\n",
    "\n",
    "print(x.shape)\n",
    "x = encoder(x)\n",
    "print(x.shape)\n",
    "x = decoder(x)\n",
    "print(x.shape)"
   ]
  },
  {
   "cell_type": "code",
   "execution_count": 46,
   "metadata": {},
   "outputs": [
    {
     "name": "stdout",
     "output_type": "stream",
     "text": [
      "torch.Size([32, 10, 19])\n",
      "torch.Size([32, 10, 9])\n",
      "torch.Size([32, 10, 4])\n",
      "[19, 9, 4]\n"
     ]
    }
   ],
   "source": [
    "def conv1d_size(\n",
    "    length: int, kernel_size: int, stride: int, padding: int\n",
    ") -> int:\n",
    "    \"\"\"Calculate output dimensions for 1d convolution.\n",
    "\n",
    "    Args:\n",
    "        length (int): Input size.\n",
    "        kernel_size (int): Kernel_size.\n",
    "        stride (int): Stride.\n",
    "\n",
    "    Returns:\n",
    "        int: Output size.\n",
    "    \"\"\"\n",
    "    return int((length + (2 * padding) - (kernel_size - 1) - 1) / stride) + 1\n",
    "\n",
    "\n",
    "batch_size = 32\n",
    "height = 10\n",
    "length = 19\n",
    "y = torch.randn(batch_size, height, length)\n",
    "print(y.shape)\n",
    "\n",
    "conv = nn.Conv1d(\n",
    "    in_channels=height, out_channels=height, kernel_size=2, stride=2, padding=0\n",
    ")\n",
    "\n",
    "lengths = [y.shape[-1]]\n",
    "for i in range(2):\n",
    "    length = conv1d_size(length, 2, 2, 0)\n",
    "    lengths.append(length)\n",
    "    y = conv(y)\n",
    "    print(y.shape)\n",
    "\n",
    "print(lengths)"
   ]
  },
  {
   "cell_type": "code",
   "execution_count": 58,
   "metadata": {},
   "outputs": [
    {
     "name": "stdout",
     "output_type": "stream",
     "text": [
      "torch.Size([32, 10, 13, 1])\n"
     ]
    }
   ],
   "source": [
    "batch_size = 32\n",
    "channels = 3\n",
    "height = 10\n",
    "length = 24\n",
    "e = torch.randn(batch_size, channels, length, height)\n",
    "\n",
    "conv = nn.Conv2d(\n",
    "    in_channels=channels,\n",
    "    out_channels=height,\n",
    "    kernel_size=(2, height),\n",
    "    stride=(2, 1),\n",
    "    padding=(1, 0),\n",
    ")\n",
    "\n",
    "e = conv(e)\n",
    "print(e.shape)"
   ]
  },
  {
   "cell_type": "code",
   "execution_count": null,
   "metadata": {},
   "outputs": [],
   "source": []
  }
 ],
 "metadata": {
  "kernelspec": {
   "display_name": "caveat",
   "language": "python",
   "name": "python3"
  },
  "language_info": {
   "codemirror_mode": {
    "name": "ipython",
    "version": 3
   },
   "file_extension": ".py",
   "mimetype": "text/x-python",
   "name": "python",
   "nbconvert_exporter": "python",
   "pygments_lexer": "ipython3",
   "version": "3.11.8"
  }
 },
 "nbformat": 4,
 "nbformat_minor": 2
}
