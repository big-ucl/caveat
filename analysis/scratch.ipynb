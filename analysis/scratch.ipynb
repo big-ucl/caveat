{
 "cells": [
  {
   "cell_type": "code",
   "execution_count": 3,
   "metadata": {},
   "outputs": [],
   "source": [
    "import torch\n",
    "from torch import nn"
   ]
  },
  {
   "cell_type": "code",
   "execution_count": 105,
   "metadata": {},
   "outputs": [
    {
     "name": "stdout",
     "output_type": "stream",
     "text": [
      "[(10, 5), (4, 2), (2, 1)]\n",
      "torch.Size([32, 10, 5])\n",
      "torch.Size([32, 2, 1])\n",
      "torch.Size([32, 10, 5])\n"
     ]
    }
   ],
   "source": [
    "batch_size = 32\n",
    "height = 10\n",
    "length = 5\n",
    "x = torch.randn(batch_size, height, length)\n",
    "\n",
    "hidden = [4, 2]\n",
    "kernel_size = 2\n",
    "stride = 2\n",
    "\n",
    "\n",
    "def conv1d_size(length: int, kernel_size: int, stride: int) -> int:\n",
    "    \"\"\"Calculate output dimensions for 1d convolution.\n",
    "\n",
    "    Args:\n",
    "        length (int): Input size.\n",
    "        kernel_size (int): Kernel_size.\n",
    "        stride (int): Stride.\n",
    "\n",
    "    Returns:\n",
    "        int: Output size.\n",
    "    \"\"\"\n",
    "    return (length - kernel_size) // stride + 1\n",
    "\n",
    "\n",
    "shapes = []\n",
    "encoder = []\n",
    "channels = height\n",
    "\n",
    "for h in hidden:\n",
    "    shapes.append((channels, length))\n",
    "    conv = nn.Conv1d(\n",
    "        in_channels=channels,\n",
    "        out_channels=h,\n",
    "        kernel_size=kernel_size,\n",
    "        stride=stride,\n",
    "        padding=0,\n",
    "    )\n",
    "    encoder.append(conv)\n",
    "    length = conv1d_size(length, kernel_size, stride)\n",
    "    channels = h\n",
    "\n",
    "shapes.append((channels, length))\n",
    "encoder = nn.Sequential(*encoder)\n",
    "print(shapes)\n",
    "shapes.reverse()\n",
    "\n",
    "decoder = []\n",
    "for i in range(len(hidden)):\n",
    "    channels_in, length_in = shapes[i]\n",
    "    channels_out, length_out = shapes[i + 1]\n",
    "    if length_out % 2 == 0:\n",
    "        padding = 0\n",
    "    else:\n",
    "        padding = 1\n",
    "    conv = nn.ConvTranspose1d(\n",
    "        in_channels=channels_in,\n",
    "        out_channels=channels_out,\n",
    "        kernel_size=kernel_size,\n",
    "        stride=stride,\n",
    "        output_padding=padding,\n",
    "    )\n",
    "    decoder.append(conv)\n",
    "decoder = nn.Sequential(*decoder)\n",
    "\n",
    "print(x.shape)\n",
    "x = encoder(x)\n",
    "print(x.shape)\n",
    "x = decoder(x)\n",
    "print(x.shape)"
   ]
  },
  {
   "cell_type": "code",
   "execution_count": 94,
   "metadata": {},
   "outputs": [
    {
     "name": "stdout",
     "output_type": "stream",
     "text": [
      "torch.Size([32, 10, 2])\n",
      "padded\n",
      "torch.Size([32, 10, 4])\n",
      "padded\n",
      "torch.Size([32, 10, 8])\n",
      "not padded\n",
      "torch.Size([32, 10, 17])\n"
     ]
    }
   ],
   "source": [
    "y = torch.randn_like(x)\n",
    "print(y.shape)\n",
    "\n",
    "dconv = nn.ConvTranspose1d(\n",
    "    in_channels=height,\n",
    "    out_channels=height,\n",
    "    kernel_size=2,\n",
    "    stride=2,\n",
    "    output_padding=0,\n",
    ")\n",
    "dconv_padded = nn.ConvTranspose1d(\n",
    "    in_channels=height,\n",
    "    out_channels=height,\n",
    "    kernel_size=2,\n",
    "    stride=2,\n",
    "    output_padding=1,\n",
    ")\n",
    "\n",
    "for pad in pads[::-1]:\n",
    "    if pad:\n",
    "        print(\"not padded\")\n",
    "        y = dconv_padded(y)\n",
    "    else:\n",
    "        print(\"padded\")\n",
    "        y = dconv(y)\n",
    "    print(y.shape)"
   ]
  },
  {
   "cell_type": "code",
   "execution_count": 58,
   "metadata": {},
   "outputs": [
    {
     "name": "stdout",
     "output_type": "stream",
     "text": [
      "torch.Size([32, 10, 13, 1])\n"
     ]
    }
   ],
   "source": [
    "batch_size = 32\n",
    "channels = 3\n",
    "height = 10\n",
    "length = 24\n",
    "e = torch.randn(batch_size, channels, length, height)\n",
    "\n",
    "conv = nn.Conv2d(\n",
    "    in_channels=channels,\n",
    "    out_channels=height,\n",
    "    kernel_size=(2, height),\n",
    "    stride=(2, 1),\n",
    "    padding=(1, 0),\n",
    ")\n",
    "\n",
    "e = conv(e)\n",
    "print(e.shape)"
   ]
  },
  {
   "cell_type": "code",
   "execution_count": null,
   "metadata": {},
   "outputs": [],
   "source": []
  }
 ],
 "metadata": {
  "kernelspec": {
   "display_name": "caveat",
   "language": "python",
   "name": "python3"
  },
  "language_info": {
   "codemirror_mode": {
    "name": "ipython",
    "version": 3
   },
   "file_extension": ".py",
   "mimetype": "text/x-python",
   "name": "python",
   "nbconvert_exporter": "python",
   "pygments_lexer": "ipython3",
   "version": "3.11.8"
  }
 },
 "nbformat": 4,
 "nbformat_minor": 2
}
