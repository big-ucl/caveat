{
 "cells": [
  {
   "cell_type": "code",
   "execution_count": 1,
   "metadata": {},
   "outputs": [],
   "source": [
    "from pathlib import Path\n",
    "\n",
    "from pandas import DataFrame\n",
    "from torch.random import seed as seeder\n",
    "\n",
    "from caveat.run import encode_data, generate, initiate_logger, load_data, train"
   ]
  },
  {
   "cell_type": "code",
   "execution_count": 7,
   "metadata": {},
   "outputs": [],
   "source": [
    "ckpt_path = Path(\n",
    "    \"../logs/toy_conditional/version_8/checkpoints/epoch=3-step=116.ckpt\"\n",
    ")\n",
    "\n",
    "config = {\n",
    "    \"logging_params\": {\"log_dir\": \"tmp\", \"name\": \"demo\"},\n",
    "    \"schedules_path\": \"../examples/data/synthetic_schedules.csv\",\n",
    "    \"attributes_path\": \"../examples/data/synthetic_attributes.csv\",\n",
    "    \"conditionals\": {\n",
    "        \"gender\": \"nominal\",\n",
    "        \"age\": {\"ordinal\": [0, 100]},\n",
    "        \"employment\": \"nominal\",\n",
    "    },\n",
    "    \"encoder_params\": {\n",
    "        \"name\": \"sequence_staggered\",\n",
    "        \"max_length\": 16,\n",
    "        \"norm_duration\": 1440,\n",
    "        \"jitter\": 0.1,\n",
    "    },\n",
    "    \"model_params\": {\n",
    "        \"name\": \"CVAE_LSTM\",\n",
    "        \"hidden_layers\": 1,\n",
    "        \"hidden_size\": 32,\n",
    "        \"latent_dim\": 6,\n",
    "        \"dropout\": 0.1,\n",
    "        \"teacher_forcing_ratio\": 0.5,\n",
    "    },\n",
    "    \"loader_params\": {\n",
    "        \"train_batch_size\": 32,\n",
    "        \"val_batch_size\": 32,\n",
    "        \"num_workers\": 3,\n",
    "    },\n",
    "    \"experiment_params\": {\n",
    "        \"LR\": 0.01,\n",
    "        \"weight_decay\": 0.0,\n",
    "        \"scheduler_gamma\": 0.95,\n",
    "        \"kld_weight\": 0.00025,\n",
    "    },\n",
    "    \"trainer_params\": {\"patience\": 3, \"max_epochs\": 5},\n",
    "    \"seed\": 1234,\n",
    "}\n",
    "\n",
    "name = \"demo\"\n",
    "logger = initiate_logger(Path(\"tmp\"), name)\n",
    "seed = seeder()"
   ]
  },
  {
   "cell_type": "code",
   "execution_count": 3,
   "metadata": {},
   "outputs": [
    {
     "name": "stdout",
     "output_type": "stream",
     "text": [
      "Loaded 1000 schedules from data/synthetic_schedules.csv\n",
      "Found attributes: {'age', 'employment', 'pid', 'gender'}\n",
      "set()\n",
      "Loaded 1000 attributes from data/synthetic_attributes.csv\n",
      "Using input attributes as synthetic attributes\n",
      "Loaded 1000 attributes from data/synthetic_attributes.csv\n",
      "\n",
      "======= Training demo =======\n",
      "Using teacher forcing ratio: 0.5\n",
      "Using KLD weight: 0.0001\n",
      "Using duration weight: 1\n",
      "Using mask: True\n",
      "Using weighted loss: True\n"
     ]
    },
    {
     "name": "stderr",
     "output_type": "stream",
     "text": [
      "GPU available: False, used: False\n",
      "TPU available: False, using: 0 TPU cores\n",
      "IPU available: False, using: 0 IPUs\n",
      "HPU available: False, using: 0 HPUs\n",
      "\n",
      "  | Name  | Type      | Params\n",
      "------------------------------------\n",
      "0 | model | CVAE_LSTM | 19.3 K\n",
      "------------------------------------\n",
      "19.3 K    Trainable params\n",
      "0         Non-trainable params\n",
      "19.3 K    Total params\n",
      "0.077     Total estimated model params size (MB)\n"
     ]
    },
    {
     "data": {
      "application/vnd.jupyter.widget-view+json": {
       "model_id": "36d5aec281f24f4ea4c309097b3070df",
       "version_major": 2,
       "version_minor": 0
      },
      "text/plain": [
       "Sanity Checking: |          | 0/? [00:00<?, ?it/s]"
      ]
     },
     "metadata": {},
     "output_type": "display_data"
    },
    {
     "name": "stderr",
     "output_type": "stream",
     "text": [
      "/Users/fredshone/miniforge3/envs/caveat/lib/python3.11/site-packages/pytorch_lightning/loops/fit_loop.py:293: The number of training batches (29) is smaller than the logging interval Trainer(log_every_n_steps=50). Set a lower value for log_every_n_steps if you want to see logs for the training epoch.\n"
     ]
    },
    {
     "data": {
      "application/vnd.jupyter.widget-view+json": {
       "model_id": "d5b2c97b08c14cdf81d85c3f8001aff6",
       "version_major": 2,
       "version_minor": 0
      },
      "text/plain": [
       "Training: |          | 0/? [00:00<?, ?it/s]"
      ]
     },
     "metadata": {},
     "output_type": "display_data"
    },
    {
     "data": {
      "application/vnd.jupyter.widget-view+json": {
       "model_id": "f4cc93b9116140e3b849b59317ef5e90",
       "version_major": 2,
       "version_minor": 0
      },
      "text/plain": [
       "Validation: |          | 0/? [00:00<?, ?it/s]"
      ]
     },
     "metadata": {},
     "output_type": "display_data"
    },
    {
     "data": {
      "application/vnd.jupyter.widget-view+json": {
       "model_id": "28608ddd64fb43cda4ba19f53a8a255c",
       "version_major": 2,
       "version_minor": 0
      },
      "text/plain": [
       "Validation: |          | 0/? [00:00<?, ?it/s]"
      ]
     },
     "metadata": {},
     "output_type": "display_data"
    },
    {
     "data": {
      "application/vnd.jupyter.widget-view+json": {
       "model_id": "f5d5983c683246508f800bfd7ef767c4",
       "version_major": 2,
       "version_minor": 0
      },
      "text/plain": [
       "Validation: |          | 0/? [00:00<?, ?it/s]"
      ]
     },
     "metadata": {},
     "output_type": "display_data"
    },
    {
     "data": {
      "application/vnd.jupyter.widget-view+json": {
       "model_id": "9aa8cc9b0758427aa064bf568ef8e08d",
       "version_major": 2,
       "version_minor": 0
      },
      "text/plain": [
       "Validation: |          | 0/? [00:00<?, ?it/s]"
      ]
     },
     "metadata": {},
     "output_type": "display_data"
    },
    {
     "data": {
      "application/vnd.jupyter.widget-view+json": {
       "model_id": "c4f9826c7c3a4cb89234ab946eee756d",
       "version_major": 2,
       "version_minor": 0
      },
      "text/plain": [
       "Validation: |          | 0/? [00:00<?, ?it/s]"
      ]
     },
     "metadata": {},
     "output_type": "display_data"
    },
    {
     "name": "stderr",
     "output_type": "stream",
     "text": [
      "`Trainer.fit` stopped: `max_epochs=5` reached.\n"
     ]
    }
   ],
   "source": [
    "# load data\n",
    "schedules, attributes, synthetic_attributes = load_data(config)\n",
    "\n",
    "# encode data\n",
    "# todo - save encoders so that they can be used for loaded checkpoint\n",
    "(schedule_encoder, encoded_schedules, data_loader, synthetic_conditionals) = (\n",
    "    encode_data(schedules, attributes, synthetic_attributes, config)\n",
    ")\n",
    "\n",
    "# train\n",
    "trainer = train(\n",
    "    name=\"demo\",\n",
    "    data_loader=data_loader,\n",
    "    encoded_schedules=encoded_schedules,\n",
    "    config=config,\n",
    "    test=False,\n",
    "    gen=True,\n",
    "    logger=logger,\n",
    "    seed=seed,\n",
    ")"
   ]
  },
  {
   "cell_type": "code",
   "execution_count": 4,
   "metadata": {},
   "outputs": [
    {
     "data": {
      "text/html": [
       "<div>\n",
       "<style scoped>\n",
       "    .dataframe tbody tr th:only-of-type {\n",
       "        vertical-align: middle;\n",
       "    }\n",
       "\n",
       "    .dataframe tbody tr th {\n",
       "        vertical-align: top;\n",
       "    }\n",
       "\n",
       "    .dataframe thead th {\n",
       "        text-align: right;\n",
       "    }\n",
       "</style>\n",
       "<table border=\"1\" class=\"dataframe\">\n",
       "  <thead>\n",
       "    <tr style=\"text-align: right;\">\n",
       "      <th></th>\n",
       "      <th>pid</th>\n",
       "      <th>gender</th>\n",
       "      <th>age</th>\n",
       "      <th>employment</th>\n",
       "    </tr>\n",
       "  </thead>\n",
       "  <tbody>\n",
       "    <tr>\n",
       "      <th>0</th>\n",
       "      <td>0</td>\n",
       "      <td>F</td>\n",
       "      <td>24</td>\n",
       "      <td>FTW</td>\n",
       "    </tr>\n",
       "    <tr>\n",
       "      <th>1</th>\n",
       "      <td>1</td>\n",
       "      <td>M</td>\n",
       "      <td>85</td>\n",
       "      <td>NEET</td>\n",
       "    </tr>\n",
       "    <tr>\n",
       "      <th>2</th>\n",
       "      <td>2</td>\n",
       "      <td>M</td>\n",
       "      <td>60</td>\n",
       "      <td>FTW</td>\n",
       "    </tr>\n",
       "    <tr>\n",
       "      <th>3</th>\n",
       "      <td>3</td>\n",
       "      <td>F</td>\n",
       "      <td>31</td>\n",
       "      <td>PTW</td>\n",
       "    </tr>\n",
       "    <tr>\n",
       "      <th>4</th>\n",
       "      <td>4</td>\n",
       "      <td>M</td>\n",
       "      <td>17</td>\n",
       "      <td>FTE</td>\n",
       "    </tr>\n",
       "    <tr>\n",
       "      <th>...</th>\n",
       "      <td>...</td>\n",
       "      <td>...</td>\n",
       "      <td>...</td>\n",
       "      <td>...</td>\n",
       "    </tr>\n",
       "    <tr>\n",
       "      <th>995</th>\n",
       "      <td>995</td>\n",
       "      <td>M</td>\n",
       "      <td>56</td>\n",
       "      <td>FTW</td>\n",
       "    </tr>\n",
       "    <tr>\n",
       "      <th>996</th>\n",
       "      <td>996</td>\n",
       "      <td>M</td>\n",
       "      <td>51</td>\n",
       "      <td>FTW</td>\n",
       "    </tr>\n",
       "    <tr>\n",
       "      <th>997</th>\n",
       "      <td>997</td>\n",
       "      <td>F</td>\n",
       "      <td>18</td>\n",
       "      <td>PTW</td>\n",
       "    </tr>\n",
       "    <tr>\n",
       "      <th>998</th>\n",
       "      <td>998</td>\n",
       "      <td>F</td>\n",
       "      <td>17</td>\n",
       "      <td>FTE</td>\n",
       "    </tr>\n",
       "    <tr>\n",
       "      <th>999</th>\n",
       "      <td>999</td>\n",
       "      <td>F</td>\n",
       "      <td>83</td>\n",
       "      <td>NEET</td>\n",
       "    </tr>\n",
       "  </tbody>\n",
       "</table>\n",
       "<p>1000 rows × 4 columns</p>\n",
       "</div>"
      ],
      "text/plain": [
       "     pid gender  age employment\n",
       "0      0      F   24        FTW\n",
       "1      1      M   85       NEET\n",
       "2      2      M   60        FTW\n",
       "3      3      F   31        PTW\n",
       "4      4      M   17        FTE\n",
       "..   ...    ...  ...        ...\n",
       "995  995      M   56        FTW\n",
       "996  996      M   51        FTW\n",
       "997  997      F   18        PTW\n",
       "998  998      F   17        FTE\n",
       "999  999      F   83       NEET\n",
       "\n",
       "[1000 rows x 4 columns]"
      ]
     },
     "execution_count": 4,
     "metadata": {},
     "output_type": "execute_result"
    }
   ],
   "source": [
    "synthetic_attributes"
   ]
  },
  {
   "cell_type": "code",
   "execution_count": 5,
   "metadata": {},
   "outputs": [],
   "source": [
    "synthetics = DataFrame(\n",
    "    [\n",
    "        {\"pid\": 0, \"gender\": \"F\", \"age\": 20, \"employment\": \"FTW\"},\n",
    "        {\"pid\": 1, \"gender\": \"F\", \"age\": 30, \"employment\": \"FTW\"},\n",
    "        {\"pid\": 2, \"gender\": \"F\", \"age\": 40, \"employment\": \"FTW\"},\n",
    "    ]\n",
    ")\n",
    "\n",
    "_, _, _, synthetic_conditionals = encode_data(\n",
    "    schedules, attributes, synthetics, config\n",
    ")"
   ]
  },
  {
   "cell_type": "code",
   "execution_count": 8,
   "metadata": {},
   "outputs": [
    {
     "name": "stderr",
     "output_type": "stream",
     "text": [
      "Restoring states from the checkpoint path at ../logs/toy_conditional/version_8/checkpoints/epoch=3-step=116.ckpt\n",
      "Loaded model weights from the checkpoint at ../logs/toy_conditional/version_8/checkpoints/epoch=3-step=116.ckpt\n"
     ]
    },
    {
     "name": "stdout",
     "output_type": "stream",
     "text": [
      "\n",
      "======= Sampling 3 new schedules from synthetic attributes =======\n"
     ]
    },
    {
     "data": {
      "application/vnd.jupyter.widget-view+json": {
       "model_id": "170fe235989944eca39fbe24292d5a26",
       "version_major": 2,
       "version_minor": 0
      },
      "text/plain": [
       "Predicting: |          | 0/? [00:00<?, ?it/s]"
      ]
     },
     "metadata": {},
     "output_type": "display_data"
    }
   ],
   "source": [
    "# prepare synthetic attributes\n",
    "synthetic_population = (\n",
    "    schedules.pid.nunique()\n",
    "    if synthetic_conditionals is None\n",
    "    else synthetic_conditionals\n",
    ")\n",
    "\n",
    "# generate synthetic schedules\n",
    "synthetic_schedules = generate(\n",
    "    trainer=trainer,\n",
    "    population=synthetic_population,\n",
    "    schedule_encoder=schedule_encoder,\n",
    "    config=config,\n",
    "    write_dir=Path(logger.log_dir),\n",
    "    seed=seed,\n",
    "    ckpt_path=ckpt_path,\n",
    ")"
   ]
  },
  {
   "cell_type": "code",
   "execution_count": 10,
   "metadata": {},
   "outputs": [],
   "source": [
    "from pam.activity import Activity, Leg, Plan\n",
    "from pam.utils import minutes_to_datetime\n",
    "\n",
    "\n",
    "def to_datetime(minutes):\n",
    "    return minutes_to_datetime(minutes)\n",
    "\n",
    "\n",
    "def build_plan(schedule):\n",
    "    plan = Plan()\n",
    "    try:\n",
    "        for _, row in schedule.iterrows():\n",
    "            start, end = to_datetime(row.start), to_datetime(row.end)\n",
    "            plan.add(Activity(act=row.act, start_time=start, end_time=end))\n",
    "            plan.add(Leg(mode=\"\", start_time=end, end_time=end, distance=0))\n",
    "        plan.day.pop(-1)\n",
    "        return plan\n",
    "    except Exception as e:\n",
    "        print(e)\n",
    "        return None"
   ]
  },
  {
   "cell_type": "code",
   "execution_count": 11,
   "metadata": {},
   "outputs": [
    {
     "data": {
      "image/png": "[encoded data removed]",
      "text/plain": [
       "<Figure size 1600x175 with 1 Axes>"
      ]
     },
     "metadata": {},
     "output_type": "display_data"
    },
    {
     "data": {
      "image/png": "[encoded data removed]",
      "text/plain": [
       "<Figure size 1600x175 with 1 Axes>"
      ]
     },
     "metadata": {},
     "output_type": "display_data"
    },
    {
     "data": {
      "image/png": "[encoded data removed]",
      "text/plain": [
       "<Figure size 1600x175 with 1 Axes>"
      ]
     },
     "metadata": {},
     "output_type": "display_data"
    }
   ],
   "source": [
    "for pid, schedule in synthetic_schedules.groupby(\"pid\"):\n",
    "    plan = build_plan(schedule)\n",
    "    if plan is not None:\n",
    "        plan.plot()"
   ]
  },
  {
   "cell_type": "code",
   "execution_count": null,
   "metadata": {},
   "outputs": [],
   "source": []
  }
 ],
 "metadata": {
  "kernelspec": {
   "display_name": "caveat",
   "language": "python",
   "name": "python3"
  },
  "language_info": {
   "codemirror_mode": {
    "name": "ipython",
    "version": 3
   },
   "file_extension": ".py",
   "mimetype": "text/x-python",
   "name": "python",
   "nbconvert_exporter": "python",
   "pygments_lexer": "ipython3",
   "version": "3.11.6"
  }
 },
 "nbformat": 4,
 "nbformat_minor": 2
}
