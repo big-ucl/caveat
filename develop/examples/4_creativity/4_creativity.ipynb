{
 "cells": [
  {
   "cell_type": "markdown",
   "metadata": {},
   "source": [
    "# Creativity\n",
    "\n",
    "In addition to correctness we also desire a model to have creativity.\n",
    "\n",
    "Consider a model that generates a new population by sampling randomly from the training population. This model would have excellent or even perfect correctness. However this model would be unable to generate up-sampled populations of sequences without sampling the same data multiple times. More generally this model would be unable to generate sequences not seen in the training data, which in practice is only a small sample of the true population.\n",
    "\n",
    "We therefore also measure and value creativity, which we define as a combination of diversity and novelty.\n"
   ]
  },
  {
   "cell_type": "code",
   "execution_count": 1,
   "metadata": {},
   "outputs": [],
   "source": [
    "import random\n",
    "\n",
    "import pandas as pd\n",
    "\n",
    "from caveat.evaluate.features import creativity"
   ]
  },
  {
   "cell_type": "code",
   "execution_count": 2,
   "metadata": {},
   "outputs": [],
   "source": [
    "# create some data\n",
    "raw = pd.read_csv(\"data/synthetic_schedules.csv\")\n",
    "\n",
    "\n",
    "def down_sample(df, p):\n",
    "    n_samples = int(len(df.pid.unique()) * p)\n",
    "    sample_ids = random.sample(list(df.pid.unique()), n_samples)\n",
    "    sampled = df[df.pid.isin(sample_ids)]\n",
    "    return sampled\n",
    "\n",
    "\n",
    "observed = down_sample(raw, 0.2)\n",
    "\n",
    "a = down_sample(observed, 0.5)\n",
    "b = down_sample(raw, 0.2)\n",
    "synthetic = {\"a\": a, \"b\": b}"
   ]
  },
  {
   "cell_type": "code",
   "execution_count": 3,
   "metadata": {},
   "outputs": [],
   "source": [
    "observed_hash = creativity.hash_population(observed)\n",
    "a_hash = creativity.hash_population(a)\n",
    "b_hash = creativity.hash_population(b)"
   ]
  },
  {
   "cell_type": "markdown",
   "metadata": {},
   "source": [
    "## Diversity\n",
    "\n",
    "We consider the diversity of the populations of sequences by counting the number of unique sequences as a proportion of the total number of sequences. We can compare the diversity of two populations in this manner. We consider higher diversity to be good. Ideally as diverse or more so than the training population."
   ]
  },
  {
   "cell_type": "code",
   "execution_count": 4,
   "metadata": {},
   "outputs": [
    {
     "name": "stdout",
     "output_type": "stream",
     "text": [
      "Observed population of size 838 has diversity of 0.735\n",
      "Synthetic population A of size 419 has diversity of 0.78\n",
      "Synthetic population B of size 865 has diversity of 0.695\n"
     ]
    }
   ],
   "source": [
    "print(\n",
    "    f\"Observed population of size {len(observed)} has diversity of {creativity.diversity(observed, observed_hash)}\"\n",
    ")\n",
    "print(\n",
    "    f\"Synthetic population A of size {len(a)} has diversity of {creativity.diversity(a, a_hash)}\"\n",
    ")\n",
    "print(\n",
    "    f\"Synthetic population B of size {len(b)} has diversity of {creativity.diversity(b, b_hash)}\"\n",
    ")"
   ]
  },
  {
   "cell_type": "markdown",
   "metadata": {},
   "source": [
    "In all cases we have high diversity. Note that that the size of a population also has an impact on diversity. we expect it to be easier to generate a diverse population if it is smaller.\n",
    "\n",
    "## Novelty\n",
    "\n",
    "We consider the novelty of a model as how well it can generate sequences not observed in the training population. We measure novelty by counting the number of unique sequences not seen in the training population as a proportion of the total number of sequences in the population. By only considering unique sequences we are are effectively combining our measure of diversity with novelty, and we more generally refer to this metric as creativity."
   ]
  },
  {
   "cell_type": "code",
   "execution_count": 5,
   "metadata": {},
   "outputs": [
    {
     "name": "stdout",
     "output_type": "stream",
     "text": [
      "Synthetic population A of size 419 has novelty of 0.0\n",
      "Synthetic population B of size 865 has novelty of 0.5611510791366906\n"
     ]
    }
   ],
   "source": [
    "print(\n",
    "    f\"Synthetic population A of size {len(a)} has novelty of {creativity.novelty(observed_hash, a_hash)}\"\n",
    ")\n",
    "print(\n",
    "    f\"Synthetic population B of size {len(b)} has novelty of {creativity.novelty(observed_hash, b_hash)}\"\n",
    ")"
   ]
  },
  {
   "cell_type": "markdown",
   "metadata": {},
   "source": [
    "In our example, population A is sampled from the observed population and therefore has 0 novelty. Population B is sampled from the same larger population (intended to represent the \"real\" population) as the observed so has some novelty."
   ]
  }
 ],
 "metadata": {
  "kernelspec": {
   "display_name": "caveat",
   "language": "python",
   "name": "caveat"
  },
  "language_info": {
   "codemirror_mode": {
    "name": "ipython",
    "version": 3
   },
   "file_extension": ".py",
   "mimetype": "text/x-python",
   "name": "python",
   "nbconvert_exporter": "python",
   "pygments_lexer": "ipython3",
   "version": "3.11.8"
  }
 },
 "nbformat": 4,
 "nbformat_minor": 2
}
