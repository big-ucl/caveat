{
 "cells": [
  {
   "cell_type": "markdown",
   "metadata": {},
   "source": [
    "# Synthetic Schedules Generation"
   ]
  },
  {
   "cell_type": "code",
   "execution_count": 1,
   "metadata": {},
   "outputs": [],
   "source": [
    "from pathlib import Path\n",
    "\n",
    "import pandas as pd\n",
    "\n",
    "from caveat.data.synth import ActivityGen\n",
    "from caveat.data.utils import generate_population, trace_to_pam\n",
    "from caveat.evaluate.describe.times import (\n",
    "    joint_time_distributions_plot,\n",
    "    times_distributions_plot,\n",
    ")\n",
    "from caveat.evaluate.describe.transitions import sequence_prob_plot"
   ]
  },
  {
   "cell_type": "code",
   "execution_count": 2,
   "metadata": {},
   "outputs": [],
   "source": [
    "write_path = Path(\"tmp/synthetic_population.csv\")"
   ]
  },
  {
   "cell_type": "code",
   "execution_count": 3,
   "metadata": {},
   "outputs": [
    {
     "data": {
      "image/png": "[encoded data removed]",
      "text/plain": [
       "<Figure size 1600x175 with 1 Axes>"
      ]
     },
     "metadata": {},
     "output_type": "display_data"
    }
   ],
   "source": [
    "# Example\n",
    "generator = ActivityGen()\n",
    "generator.build()\n",
    "\n",
    "trace = generator.run()\n",
    "plan = trace_to_pam(trace, generator.map)\n",
    "plan.plot()"
   ]
  },
  {
   "cell_type": "code",
   "execution_count": null,
   "metadata": {},
   "outputs": [],
   "source": [
    "population = generate_population(gen=generator, size=100)\n",
    "population.act = population.act.map(generator.map)\n",
    "population = population[[\"pid\", \"act\", \"start\", \"end\", \"duration\"]]\n",
    "population"
   ]
  },
  {
   "cell_type": "code",
   "execution_count": null,
   "metadata": {},
   "outputs": [],
   "source": [
    "write_path.parent.mkdir(exist_ok=True)\n",
    "population.to_csv(write_path, index=False)"
   ]
  },
  {
   "cell_type": "code",
   "execution_count": null,
   "metadata": {},
   "outputs": [],
   "source": [
    "def describe_col(population, col: str) -> pd.DataFrame:\n",
    "    description = population.groupby(\"act\")[col].describe()[\n",
    "        [\"count\", \"mean\", \"std\", \"min\", \"max\"]\n",
    "    ]\n",
    "    description[\"attribute\"] = col\n",
    "    return description\n",
    "\n",
    "\n",
    "def describe_cols(population, cols: list[str]) -> pd.DataFrame:\n",
    "    description = pd.concat(\n",
    "        [describe_col(population, c) for c in cols], ignore_index=False\n",
    "    )\n",
    "    description = description.reset_index().set_index([\"attribute\", \"act\"])\n",
    "    return description\n",
    "\n",
    "\n",
    "describe_cols(population, [\"start\", \"end\", \"duration\"]).round()"
   ]
  },
  {
   "cell_type": "code",
   "execution_count": null,
   "metadata": {},
   "outputs": [],
   "source": [
    "def time_distributions(population: pd.DataFrame, mapping: dict):\n",
    "    starts = {k: [] for k in mapping.values()}\n",
    "    ends = {k: [] for k in mapping.values()}\n",
    "    durations = {k: [] for k in mapping.values()}\n",
    "    for act, acts in population.groupby(\"act\"):\n",
    "        starts[act] = list(acts.start)\n",
    "        ends[act] = list(acts.end)\n",
    "        durations[act] = list(acts.duration)\n",
    "    return starts, ends, durations"
   ]
  },
  {
   "cell_type": "code",
   "execution_count": null,
   "metadata": {},
   "outputs": [],
   "source": [
    "starts, ends, durations = time_distributions(population, generator.map)"
   ]
  },
  {
   "cell_type": "code",
   "execution_count": null,
   "metadata": {},
   "outputs": [],
   "source": [
    "_ = times_distributions_plot(population, ys={})"
   ]
  },
  {
   "cell_type": "code",
   "execution_count": null,
   "metadata": {},
   "outputs": [],
   "source": [
    "_ = joint_time_distributions_plot(population, ys={})"
   ]
  },
  {
   "cell_type": "code",
   "execution_count": null,
   "metadata": {},
   "outputs": [],
   "source": [
    "_ = sequence_prob_plot(population, ys={}, figsize=(8, 6))"
   ]
  },
  {
   "cell_type": "code",
   "execution_count": null,
   "metadata": {},
   "outputs": [],
   "source": []
  }
 ],
 "metadata": {
  "kernelspec": {
   "display_name": "caveat",
   "language": "python",
   "name": "caveat"
  },
  "language_info": {
   "codemirror_mode": {
    "name": "ipython",
    "version": 3
   },
   "file_extension": ".py",
   "mimetype": "text/x-python",
   "name": "python",
   "nbconvert_exporter": "python",
   "pygments_lexer": "ipython3",
   "version": "3.11.8"
  },
  "orig_nbformat": 4
 },
 "nbformat": 4,
 "nbformat_minor": 2
}
