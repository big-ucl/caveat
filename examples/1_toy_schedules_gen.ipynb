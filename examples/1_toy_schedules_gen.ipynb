{
 "cells": [
  {
   "cell_type": "markdown",
   "metadata": {},
   "source": [
    "# Toy Schedules Generation\n",
    "\n",
    "Generate a population (schedules and attributes). Where every schedule is home -> work -> home, with varying durations. Attributes are randomly assigned."
   ]
  },
  {
   "cell_type": "code",
   "execution_count": 3,
   "metadata": {},
   "outputs": [],
   "source": [
    "from pathlib import Path\n",
    "\n",
    "import pandas as pd\n",
    "import random\n",
    "\n",
    "from caveat.data.synth import ActivityGen\n",
    "from caveat.data.utils import generate_population, trace_to_pam\n",
    "from caveat.evaluate.describe.times import (\n",
    "    joint_time_distributions_plot,\n",
    "    times_distributions_plot,\n",
    ")\n",
    "from caveat.evaluate.describe.transitions import sequence_prob_plot"
   ]
  },
  {
   "cell_type": "code",
   "execution_count": 13,
   "metadata": {},
   "outputs": [],
   "source": [
    "n = 10000\n",
    "\n",
    "schedules_write_path = Path(\"tmp/toy_schedules.csv\")\n",
    "attributes_write_path = Path(\"tmp/toy_attributes.csv\")\n"
   ]
  },
  {
   "cell_type": "code",
   "execution_count": 14,
   "metadata": {},
   "outputs": [
    {
     "data": {
      "text/html": [
       "<div>\n",
       "<style scoped>\n",
       "    .dataframe tbody tr th:only-of-type {\n",
       "        vertical-align: middle;\n",
       "    }\n",
       "\n",
       "    .dataframe tbody tr th {\n",
       "        vertical-align: top;\n",
       "    }\n",
       "\n",
       "    .dataframe thead th {\n",
       "        text-align: right;\n",
       "    }\n",
       "</style>\n",
       "<table border=\"1\" class=\"dataframe\">\n",
       "  <thead>\n",
       "    <tr style=\"text-align: right;\">\n",
       "      <th></th>\n",
       "      <th>pid</th>\n",
       "      <th>act</th>\n",
       "      <th>start</th>\n",
       "      <th>end</th>\n",
       "      <th>duration</th>\n",
       "    </tr>\n",
       "  </thead>\n",
       "  <tbody>\n",
       "    <tr>\n",
       "      <th>0</th>\n",
       "      <td>0</td>\n",
       "      <td>home</td>\n",
       "      <td>0</td>\n",
       "      <td>571</td>\n",
       "      <td>571</td>\n",
       "    </tr>\n",
       "    <tr>\n",
       "      <th>1</th>\n",
       "      <td>0</td>\n",
       "      <td>work</td>\n",
       "      <td>571</td>\n",
       "      <td>842</td>\n",
       "      <td>271</td>\n",
       "    </tr>\n",
       "    <tr>\n",
       "      <th>2</th>\n",
       "      <td>0</td>\n",
       "      <td>home</td>\n",
       "      <td>842</td>\n",
       "      <td>1440</td>\n",
       "      <td>598</td>\n",
       "    </tr>\n",
       "    <tr>\n",
       "      <th>3</th>\n",
       "      <td>1</td>\n",
       "      <td>home</td>\n",
       "      <td>0</td>\n",
       "      <td>492</td>\n",
       "      <td>492</td>\n",
       "    </tr>\n",
       "    <tr>\n",
       "      <th>4</th>\n",
       "      <td>1</td>\n",
       "      <td>work</td>\n",
       "      <td>492</td>\n",
       "      <td>1028</td>\n",
       "      <td>536</td>\n",
       "    </tr>\n",
       "  </tbody>\n",
       "</table>\n",
       "</div>"
      ],
      "text/plain": [
       "   pid   act  start   end  duration\n",
       "0    0  home      0   571       571\n",
       "1    0  work    571   842       271\n",
       "2    0  home    842  1440       598\n",
       "3    1  home      0   492       492\n",
       "4    1  work    492  1028       536"
      ]
     },
     "execution_count": 14,
     "metadata": {},
     "output_type": "execute_result"
    }
   ],
   "source": [
    "pids = []\n",
    "acts = []\n",
    "starts = []\n",
    "ends = []\n",
    "durations = []\n",
    "for i in range(n):\n",
    "    departure_time = random.randint(300, 600)\n",
    "    work_duration = random.randint(120, 600)\n",
    "    home_duration = 1440 - work_duration - departure_time\n",
    "    t = 0\n",
    "    for act, duration in zip(\n",
    "        [\"home\", \"work\", \"home\"], [departure_time, work_duration, home_duration]\n",
    "    ):\n",
    "        pids.append(i)\n",
    "        acts.append(act)\n",
    "        starts.append(t)\n",
    "        t += duration\n",
    "        ends.append(t)\n",
    "        durations.append(duration)\n",
    "\n",
    "schedules = pd.DataFrame(\n",
    "    {\n",
    "        \"pid\": pids,\n",
    "        \"act\": acts,\n",
    "        \"start\": starts,\n",
    "        \"end\": ends,\n",
    "        \"duration\": durations,\n",
    "    }\n",
    ")\n",
    "schedules.head()\n"
   ]
  },
  {
   "cell_type": "code",
   "execution_count": 22,
   "metadata": {},
   "outputs": [
    {
     "data": {
      "text/html": [
       "<div>\n",
       "<style scoped>\n",
       "    .dataframe tbody tr th:only-of-type {\n",
       "        vertical-align: middle;\n",
       "    }\n",
       "\n",
       "    .dataframe tbody tr th {\n",
       "        vertical-align: top;\n",
       "    }\n",
       "\n",
       "    .dataframe thead th {\n",
       "        text-align: right;\n",
       "    }\n",
       "</style>\n",
       "<table border=\"1\" class=\"dataframe\">\n",
       "  <thead>\n",
       "    <tr style=\"text-align: right;\">\n",
       "      <th></th>\n",
       "      <th>pid</th>\n",
       "      <th>gender</th>\n",
       "      <th>age</th>\n",
       "      <th>work_status</th>\n",
       "      <th>education</th>\n",
       "      <th>license</th>\n",
       "      <th>car_access</th>\n",
       "    </tr>\n",
       "  </thead>\n",
       "  <tbody>\n",
       "    <tr>\n",
       "      <th>0</th>\n",
       "      <td>0</td>\n",
       "      <td>m</td>\n",
       "      <td>54</td>\n",
       "      <td>employed</td>\n",
       "      <td>high</td>\n",
       "      <td>no</td>\n",
       "      <td>no</td>\n",
       "    </tr>\n",
       "    <tr>\n",
       "      <th>1</th>\n",
       "      <td>1</td>\n",
       "      <td>f</td>\n",
       "      <td>32</td>\n",
       "      <td>employed</td>\n",
       "      <td>medium</td>\n",
       "      <td>no</td>\n",
       "      <td>no</td>\n",
       "    </tr>\n",
       "    <tr>\n",
       "      <th>2</th>\n",
       "      <td>2</td>\n",
       "      <td>f</td>\n",
       "      <td>42</td>\n",
       "      <td>unemployed</td>\n",
       "      <td>low</td>\n",
       "      <td>yes</td>\n",
       "      <td>no</td>\n",
       "    </tr>\n",
       "    <tr>\n",
       "      <th>3</th>\n",
       "      <td>3</td>\n",
       "      <td>f</td>\n",
       "      <td>20</td>\n",
       "      <td>unemployed</td>\n",
       "      <td>high</td>\n",
       "      <td>no</td>\n",
       "      <td>no</td>\n",
       "    </tr>\n",
       "    <tr>\n",
       "      <th>4</th>\n",
       "      <td>4</td>\n",
       "      <td>f</td>\n",
       "      <td>58</td>\n",
       "      <td>employed</td>\n",
       "      <td>medium</td>\n",
       "      <td>yes</td>\n",
       "      <td>yes</td>\n",
       "    </tr>\n",
       "  </tbody>\n",
       "</table>\n",
       "</div>"
      ],
      "text/plain": [
       "   pid gender  age work_status education license car_access\n",
       "0    0      m   54    employed      high      no         no\n",
       "1    1      f   32    employed    medium      no         no\n",
       "2    2      f   42  unemployed       low     yes         no\n",
       "3    3      f   20  unemployed      high      no         no\n",
       "4    4      f   58    employed    medium     yes        yes"
      ]
     },
     "execution_count": 22,
     "metadata": {},
     "output_type": "execute_result"
    }
   ],
   "source": [
    "pids = []\n",
    "genders = []\n",
    "ages = []\n",
    "work_statuses = []\n",
    "educations = []\n",
    "licenses = []\n",
    "car_accesses = []\n",
    "\n",
    "for i in range(n):\n",
    "    pids.append(i)\n",
    "    genders.append(random.choice([\"m\", \"f\"]))\n",
    "    ages.append(random.randint(18, 85))\n",
    "    work_statuses.append(random.choice([\"employed\", \"unemployed\"]))\n",
    "    educations.append(random.choice([\"low\", \"medium\", \"high\"]))\n",
    "    licenses.append(random.choice([\"yes\", \"no\"]))\n",
    "    car_accesses.append(random.choice([\"yes\", \"no\"]))\n",
    "\n",
    "attributes = pd.DataFrame(\n",
    "    {\n",
    "        \"pid\": pids,\n",
    "        \"gender\": genders,\n",
    "        \"age\": ages,\n",
    "        \"work_status\": work_statuses,\n",
    "        \"education\": educations,\n",
    "        \"license\": licenses,\n",
    "        \"car_access\": car_accesses,\n",
    "    }\n",
    ")\n",
    "attributes.head()\n"
   ]
  },
  {
   "cell_type": "code",
   "execution_count": 23,
   "metadata": {},
   "outputs": [],
   "source": [
    "schedules_write_path.parent.mkdir(exist_ok=True)\n",
    "attributes_write_path.parent.mkdir(exist_ok=True)\n",
    "schedules.to_csv(schedules_write_path, index=False)\n",
    "attributes.to_csv(attributes_write_path, index=False)\n"
   ]
  },
  {
   "cell_type": "code",
   "execution_count": 24,
   "metadata": {},
   "outputs": [
    {
     "data": {
      "text/html": [
       "<div>\n",
       "<style scoped>\n",
       "    .dataframe tbody tr th:only-of-type {\n",
       "        vertical-align: middle;\n",
       "    }\n",
       "\n",
       "    .dataframe tbody tr th {\n",
       "        vertical-align: top;\n",
       "    }\n",
       "\n",
       "    .dataframe thead th {\n",
       "        text-align: right;\n",
       "    }\n",
       "</style>\n",
       "<table border=\"1\" class=\"dataframe\">\n",
       "  <thead>\n",
       "    <tr style=\"text-align: right;\">\n",
       "      <th></th>\n",
       "      <th></th>\n",
       "      <th>count</th>\n",
       "      <th>mean</th>\n",
       "      <th>std</th>\n",
       "      <th>min</th>\n",
       "      <th>max</th>\n",
       "    </tr>\n",
       "    <tr>\n",
       "      <th>attribute</th>\n",
       "      <th>act</th>\n",
       "      <th></th>\n",
       "      <th></th>\n",
       "      <th></th>\n",
       "      <th></th>\n",
       "      <th></th>\n",
       "    </tr>\n",
       "  </thead>\n",
       "  <tbody>\n",
       "    <tr>\n",
       "      <th rowspan=\"2\" valign=\"top\">start</th>\n",
       "      <th>home</th>\n",
       "      <td>20000.0</td>\n",
       "      <td>405.0</td>\n",
       "      <td>422.0</td>\n",
       "      <td>0.0</td>\n",
       "      <td>1192.0</td>\n",
       "    </tr>\n",
       "    <tr>\n",
       "      <th>work</th>\n",
       "      <td>10000.0</td>\n",
       "      <td>450.0</td>\n",
       "      <td>87.0</td>\n",
       "      <td>300.0</td>\n",
       "      <td>600.0</td>\n",
       "    </tr>\n",
       "    <tr>\n",
       "      <th rowspan=\"2\" valign=\"top\">end</th>\n",
       "      <th>home</th>\n",
       "      <td>20000.0</td>\n",
       "      <td>945.0</td>\n",
       "      <td>499.0</td>\n",
       "      <td>300.0</td>\n",
       "      <td>1440.0</td>\n",
       "    </tr>\n",
       "    <tr>\n",
       "      <th>work</th>\n",
       "      <td>10000.0</td>\n",
       "      <td>811.0</td>\n",
       "      <td>164.0</td>\n",
       "      <td>421.0</td>\n",
       "      <td>1192.0</td>\n",
       "    </tr>\n",
       "    <tr>\n",
       "      <th rowspan=\"2\" valign=\"top\">duration</th>\n",
       "      <th>home</th>\n",
       "      <td>20000.0</td>\n",
       "      <td>539.0</td>\n",
       "      <td>159.0</td>\n",
       "      <td>248.0</td>\n",
       "      <td>1019.0</td>\n",
       "    </tr>\n",
       "    <tr>\n",
       "      <th>work</th>\n",
       "      <td>10000.0</td>\n",
       "      <td>361.0</td>\n",
       "      <td>139.0</td>\n",
       "      <td>120.0</td>\n",
       "      <td>600.0</td>\n",
       "    </tr>\n",
       "  </tbody>\n",
       "</table>\n",
       "</div>"
      ],
      "text/plain": [
       "                  count   mean    std    min     max\n",
       "attribute act                                       \n",
       "start     home  20000.0  405.0  422.0    0.0  1192.0\n",
       "          work  10000.0  450.0   87.0  300.0   600.0\n",
       "end       home  20000.0  945.0  499.0  300.0  1440.0\n",
       "          work  10000.0  811.0  164.0  421.0  1192.0\n",
       "duration  home  20000.0  539.0  159.0  248.0  1019.0\n",
       "          work  10000.0  361.0  139.0  120.0   600.0"
      ]
     },
     "execution_count": 24,
     "metadata": {},
     "output_type": "execute_result"
    }
   ],
   "source": [
    "def describe_col(population, col: str) -> pd.DataFrame:\n",
    "    description = population.groupby(\"act\")[col].describe()[\n",
    "        [\"count\", \"mean\", \"std\", \"min\", \"max\"]\n",
    "    ]\n",
    "    description[\"attribute\"] = col\n",
    "    return description\n",
    "\n",
    "\n",
    "def describe_cols(population, cols: list[str]) -> pd.DataFrame:\n",
    "    description = pd.concat(\n",
    "        [describe_col(population, c) for c in cols], ignore_index=False\n",
    "    )\n",
    "    description = description.reset_index().set_index([\"attribute\", \"act\"])\n",
    "    return description\n",
    "\n",
    "\n",
    "describe_cols(schedules, [\"start\", \"end\", \"duration\"]).round()"
   ]
  },
  {
   "cell_type": "code",
   "execution_count": 25,
   "metadata": {},
   "outputs": [],
   "source": [
    "def time_distributions(population: pd.DataFrame, mapping: dict):\n",
    "    starts = {k: [] for k in mapping.values()}\n",
    "    ends = {k: [] for k in mapping.values()}\n",
    "    durations = {k: [] for k in mapping.values()}\n",
    "    for act, acts in population.groupby(\"act\"):\n",
    "        starts[act] = list(acts.start)\n",
    "        ends[act] = list(acts.end)\n",
    "        durations[act] = list(acts.duration)\n",
    "    return starts, ends, durations"
   ]
  },
  {
   "cell_type": "code",
   "execution_count": 26,
   "metadata": {},
   "outputs": [
    {
     "data": {
      "image/png": "[encoded data removed]",
      "text/plain": [
       "<Figure size 1200x500 with 6 Axes>"
      ]
     },
     "metadata": {},
     "output_type": "display_data"
    }
   ],
   "source": [
    "_ = times_distributions_plot(schedules, ys={})"
   ]
  },
  {
   "cell_type": "code",
   "execution_count": 27,
   "metadata": {},
   "outputs": [
    {
     "data": {
      "image/png": "[encoded data removed]",
      "text/plain": [
       "<Figure size 1500x400 with 2 Axes>"
      ]
     },
     "metadata": {},
     "output_type": "display_data"
    }
   ],
   "source": [
    "_ = joint_time_distributions_plot(schedules, ys={})"
   ]
  },
  {
   "cell_type": "code",
   "execution_count": 28,
   "metadata": {},
   "outputs": [
    {
     "data": {
      "image/png": "[encoded data removed]",
      "text/plain": [
       "<Figure size 800x600 with 2 Axes>"
      ]
     },
     "metadata": {},
     "output_type": "display_data"
    }
   ],
   "source": [
    "_ = sequence_prob_plot(schedules, ys={}, figsize=(8, 6))"
   ]
  },
  {
   "cell_type": "code",
   "execution_count": null,
   "metadata": {},
   "outputs": [],
   "source": []
  }
 ],
 "metadata": {
  "kernelspec": {
   "display_name": "caveat",
   "language": "python",
   "name": "caveat"
  },
  "language_info": {
   "codemirror_mode": {
    "name": "ipython",
    "version": 3
   },
   "file_extension": ".py",
   "mimetype": "text/x-python",
   "name": "python",
   "nbconvert_exporter": "python",
   "pygments_lexer": "ipython3",
   "version": "3.11.8"
  },
  "orig_nbformat": 4
 },
 "nbformat": 4,
 "nbformat_minor": 2
}
