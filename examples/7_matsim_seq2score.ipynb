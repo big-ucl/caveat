{
 "cells": [
  {
   "cell_type": "markdown",
   "metadata": {},
   "source": [
    "# MATSim Plans - Sequence to Score\n",
    "\n",
    "Demo of parsing MATSim (experienced) plans for a sequence to score model.\n",
    "\n",
    "MATSim plans from multiple iterations are processed into plan-scores.\n",
    "\n",
    "Note that this extracts plan activities and trips. Each sequence component includes duration, model and distance."
   ]
  },
  {
   "cell_type": "code",
   "execution_count": 1,
   "metadata": {},
   "outputs": [],
   "source": [
    "from pathlib import Path\n",
    "import pandas as pd\n",
    "\n",
    "from pam.read.matsim import load_attributes_map_from_v12, stream_matsim_persons\n",
    "from pam.utils import datetime_to_matsim_time\n",
    "from pam.core import Population, Person\n",
    "from pam.activity import Activity, Plan, Leg\n"
   ]
  },
  {
   "cell_type": "code",
   "execution_count": 15,
   "metadata": {},
   "outputs": [],
   "source": [
    "dir = Path(\"data/matsim\")\n",
    "\n",
    "# input paths\n",
    "output_plans_path = dir / \"output_plans.xml\"\n",
    "iter_50 = dir / \"output_experienced_plans_ITER50.xml\"\n",
    "assert iter_50.exists()\n",
    "iter_100 = dir / \"output_experienced_plans_ITER100.xml\"\n",
    "assert iter_100.exists()\n",
    "iter_150 = dir / \"output_experienced_plans_ITER150.xml\"\n",
    "assert iter_150.exists()\n",
    "\n",
    "# output path\n",
    "output_dir = Path(\"tmp\")\n",
    "output_dir.mkdir(exist_ok=True)\n",
    "schedules_path = output_dir / \"combined.csv\"\n",
    "attributes_path = output_dir / \"attributes.csv\""
   ]
  },
  {
   "cell_type": "code",
   "execution_count": 16,
   "metadata": {},
   "outputs": [],
   "source": [
    "streamer50 = stream_matsim_persons(\n",
    "    iter_50,\n",
    "    simplify_pt_trips=True,\n",
    "    # crop=True,\n",
    "    keep_non_selected=False,\n",
    "    leg_attributes=True,\n",
    "    leg_route=True,\n",
    ")\n",
    "streamer100 = stream_matsim_persons(\n",
    "    iter_100,\n",
    "    simplify_pt_trips=True,\n",
    "    # crop=True,\n",
    "    keep_non_selected=False,\n",
    "    leg_attributes=True,\n",
    "    leg_route=True,\n",
    ")\n",
    "streamer150 = stream_matsim_persons(\n",
    "    iter_150,\n",
    "    simplify_pt_trips=True,\n",
    "    # crop=True,\n",
    "    keep_non_selected=False,\n",
    "    leg_attributes=True,\n",
    "    leg_route=True,\n",
    ")\n",
    "streamers = [streamer50, streamer100, streamer150]\n"
   ]
  },
  {
   "cell_type": "code",
   "execution_count": 17,
   "metadata": {},
   "outputs": [],
   "source": [
    "def dt_to_min(dt) -> int:\n",
    "    h, m, s = datetime_to_matsim_time(dt).split(\":\")\n",
    "    return (int(h) * 60) + int(m)\n",
    "\n",
    "\n",
    "def person_to_schedule(person: Person) -> tuple:\n",
    "    score = person.plan.score\n",
    "    record = []\n",
    "    for component in person.plan:\n",
    "        if isinstance(component, Leg):\n",
    "            distance = component.euclidean_distance\n",
    "            mode = component.mode\n",
    "        else:\n",
    "            distance = 0\n",
    "            mode = \"NA\"\n",
    "        record.append(\n",
    "            [\n",
    "                component.act,\n",
    "                dt_to_min(component.start_time),\n",
    "                dt_to_min(component.end_time),\n",
    "                mode,\n",
    "                distance,\n",
    "                score,\n",
    "            ]\n",
    "        )\n",
    "    return person.pid, record\n",
    "\n",
    "\n",
    "def add_data(record, pid, iteration):\n",
    "    record = [[pid, iteration] + line for line in record]\n",
    "    return record"
   ]
  },
  {
   "cell_type": "code",
   "execution_count": 18,
   "metadata": {},
   "outputs": [
    {
     "name": "stdout",
     "output_type": "stream",
     "text": [
      "iteration:  50\n",
      "iteration:  100\n",
      "iteration:  150\n"
     ]
    }
   ],
   "source": [
    "schedules = []\n",
    "uid = 0\n",
    "mapper = {}\n",
    "\n",
    "for iteration, streamer in zip([50, 100, 150], streamers):\n",
    "    print(\"iteration: \", iteration)\n",
    "    for person in streamer:\n",
    "        pid, record = person_to_schedule(person)\n",
    "        if record:\n",
    "            mapper[uid] = pid\n",
    "            schedules.extend(add_data(record, uid, iteration))\n",
    "            uid += 1\n",
    "\n",
    "schedules = pd.DataFrame(\n",
    "    schedules,\n",
    "    columns=[\"pid\", \"iter\", \"act\", \"start\", \"end\", \"mode\", \"distance\", \"score\"],\n",
    ").set_index(\"pid\")"
   ]
  },
  {
   "cell_type": "code",
   "execution_count": 19,
   "metadata": {},
   "outputs": [
    {
     "data": {
      "text/html": [
       "<div>\n",
       "<style scoped>\n",
       "    .dataframe tbody tr th:only-of-type {\n",
       "        vertical-align: middle;\n",
       "    }\n",
       "\n",
       "    .dataframe tbody tr th {\n",
       "        vertical-align: top;\n",
       "    }\n",
       "\n",
       "    .dataframe thead th {\n",
       "        text-align: right;\n",
       "    }\n",
       "</style>\n",
       "<table border=\"1\" class=\"dataframe\">\n",
       "  <thead>\n",
       "    <tr style=\"text-align: right;\">\n",
       "      <th></th>\n",
       "      <th>subpopulation</th>\n",
       "      <th>age</th>\n",
       "    </tr>\n",
       "    <tr>\n",
       "      <th>pid</th>\n",
       "      <th></th>\n",
       "      <th></th>\n",
       "    </tr>\n",
       "  </thead>\n",
       "  <tbody>\n",
       "    <tr>\n",
       "      <th>0</th>\n",
       "      <td>rich</td>\n",
       "      <td>yes</td>\n",
       "    </tr>\n",
       "    <tr>\n",
       "      <th>1</th>\n",
       "      <td>poor</td>\n",
       "      <td>no</td>\n",
       "    </tr>\n",
       "    <tr>\n",
       "      <th>2</th>\n",
       "      <td>poor</td>\n",
       "      <td>no</td>\n",
       "    </tr>\n",
       "    <tr>\n",
       "      <th>3</th>\n",
       "      <td>poor</td>\n",
       "      <td>no</td>\n",
       "    </tr>\n",
       "    <tr>\n",
       "      <th>4</th>\n",
       "      <td>poor</td>\n",
       "      <td>no</td>\n",
       "    </tr>\n",
       "  </tbody>\n",
       "</table>\n",
       "</div>"
      ],
      "text/plain": [
       "    subpopulation  age\n",
       "pid                   \n",
       "0            rich  yes\n",
       "1            poor   no\n",
       "2            poor   no\n",
       "3            poor   no\n",
       "4            poor   no"
      ]
     },
     "execution_count": 19,
     "metadata": {},
     "output_type": "execute_result"
    }
   ],
   "source": [
    "attributes = load_attributes_map_from_v12(output_plans_path)\n",
    "attributes = {k: attributes[v] for k, v in mapper.items()}\n",
    "attributes = pd.DataFrame(attributes).T\n",
    "attributes.index.name = \"pid\"\n",
    "attributes = attributes.fillna(\"unknown\")\n",
    "attributes.head()"
   ]
  },
  {
   "cell_type": "code",
   "execution_count": 20,
   "metadata": {},
   "outputs": [],
   "source": [
    "schedules.to_csv(schedules_path)\n",
    "attributes.to_csv(attributes_path)"
   ]
  }
 ],
 "metadata": {
  "kernelspec": {
   "display_name": "caveat",
   "language": "python",
   "name": "caveat"
  },
  "language_info": {
   "codemirror_mode": {
    "name": "ipython",
    "version": 3
   },
   "file_extension": ".py",
   "mimetype": "text/x-python",
   "name": "python",
   "nbconvert_exporter": "python",
   "pygments_lexer": "ipython3",
   "version": "3.11.8"
  }
 },
 "nbformat": 4,
 "nbformat_minor": 2
}
