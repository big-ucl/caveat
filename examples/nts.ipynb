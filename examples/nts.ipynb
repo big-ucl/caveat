{
 "cells": [
  {
   "cell_type": "code",
   "execution_count": null,
   "metadata": {},
   "outputs": [],
   "source": [
    "import pandas as pd\n",
    "from pam import read\n",
    "from pam.utils import datetime_to_matsim_time"
   ]
  },
  {
   "cell_type": "code",
   "execution_count": null,
   "metadata": {},
   "outputs": [],
   "source": [
    "# households_csv = \"~/Data/UKDA-5340-tab/tab/household_eul_2002-2021.tab\"\n",
    "# individuals_csv = \"~/Data/UKDA-5340-tab/tab/individual_eul_2002-2021.tab\"\n",
    "trips_csv = \"~/Data/UKDA-5340-tab/tab/trip_eul_2002-2021.tab\""
   ]
  },
  {
   "cell_type": "code",
   "execution_count": null,
   "metadata": {},
   "outputs": [],
   "source": [
    "travel_diaries = pd.read_csv(\n",
    "    trips_csv,\n",
    "    # nrows = 10000,\n",
    "    sep=\"\\t\",\n",
    "    usecols=[\n",
    "        \"TripID\",\n",
    "        \"JourSeq\",\n",
    "        \"DayID\",\n",
    "        \"IndividualID\",\n",
    "        \"HouseholdID\",\n",
    "        \"MainMode_B04ID\",\n",
    "        \"TripPurpFrom_B01ID\",\n",
    "        \"TripPurpTo_B01ID\",\n",
    "        # \"TripPurpose_B04ID\",\n",
    "        \"TripStart\",\n",
    "        \"TripEnd\",\n",
    "        \"TripOrigGOR_B02ID\",\n",
    "        \"TripDestGOR_B02ID\",\n",
    "        \"W5\",\n",
    "        \"SurveyYear\",\n",
    "    ],\n",
    ")\n",
    "\n",
    "travel_diaries = travel_diaries.rename(\n",
    "    columns={  # rename data\n",
    "        \"TripID\": \"tid\",\n",
    "        \"JourSeq\": \"seq\",\n",
    "        \"DayID\": \"day\",\n",
    "        \"IndividualID\": \"iid\",\n",
    "        \"HouseholdID\": \"hid\",\n",
    "        \"TripOrigGOR_B02ID\": \"ozone\",\n",
    "        \"TripDestGOR_B02ID\": \"dzone\",\n",
    "        \"TripPurpFrom_B01ID\": \"oact\",\n",
    "        \"TripPurpTo_B01ID\": \"dact\",\n",
    "        \"MainMode_B04ID\": \"mode\",\n",
    "        \"TripStart\": \"tst\",\n",
    "        \"TripEnd\": \"tet\",\n",
    "        \"W5\": \"freq\",\n",
    "        \"SurveyYear\": \"year\",\n",
    "    }\n",
    ")\n",
    "\n",
    "travel_diaries = travel_diaries[travel_diaries.year == 2021]\n",
    "\n",
    "travel_diaries.tst = pd.to_numeric(travel_diaries.tst, errors=\"coerce\")\n",
    "travel_diaries.tet = pd.to_numeric(travel_diaries.tet, errors=\"coerce\")\n",
    "travel_diaries.ozone = pd.to_numeric(travel_diaries.ozone, errors=\"coerce\")\n",
    "travel_diaries.dzone = pd.to_numeric(travel_diaries.dzone, errors=\"coerce\")\n",
    "travel_diaries.freq = pd.to_numeric(travel_diaries.freq, errors=\"coerce\")\n",
    "\n",
    "travel_diaries[\"did\"] = travel_diaries.groupby(\"iid\")[\"day\"].transform(\n",
    "    lambda x: pd.factorize(x)[0] + 1\n",
    ")\n",
    "travel_diaries[\"pid\"] = [\n",
    "    f\"{i}-{d}\" for i, d in zip(travel_diaries.iid, travel_diaries.did)\n",
    "]\n",
    "\n",
    "travel_diaries = travel_diaries.loc[\n",
    "    travel_diaries.groupby(\"pid\")\n",
    "    .filter(lambda x: pd.isnull(x).sum().sum() < 1)\n",
    "    .index\n",
    "]\n",
    "# travel_diaries.freq = travel_diaries.freq / travel_diaries.groupby(\"iid\").day.transform(\"nunique\")\n",
    "travel_diaries.loc[travel_diaries.tet == 0, \"tet\"] = 1440\n",
    "\n",
    "travel_diaries = travel_diaries.drop(\n",
    "    [\"tid\", \"iid\", \"day\", \"year\", \"did\"], axis=1\n",
    ")\n",
    "\n",
    "mode_mapping = {\n",
    "    1: \"walk\",\n",
    "    2: \"bike\",\n",
    "    3: \"car\",  #'Car/van driver'\n",
    "    4: \"car\",  #'Car/van driver'\n",
    "    5: \"car\",  #'Motorcycle',\n",
    "    6: \"car\",  #'Other private transport',\n",
    "    7: \"pt\",  # Bus in London',\n",
    "    8: \"pt\",  #'Other local bus',\n",
    "    9: \"pt\",  #'Non-local bus',\n",
    "    10: \"pt\",  #'London Underground',\n",
    "    11: \"pt\",  #'Surface Rail',\n",
    "    12: \"car\",  #'Taxi/minicab',\n",
    "    13: \"pt\",  #'Other public transport',\n",
    "    -10: \"DEAD\",\n",
    "    -8: \"NA\",\n",
    "}\n",
    "\n",
    "purp_mapping = {\n",
    "    1: \"work\",\n",
    "    2: \"work\",  #'In course of work',\n",
    "    3: \"education\",\n",
    "    4: \"shop\",  #'Food shopping',\n",
    "    5: \"shop\",  #'Non food shopping',\n",
    "    6: \"medical\",  #'Personal business medical',\n",
    "    7: \"other\",  #'Personal business eat/drink',\n",
    "    8: \"other\",  #'Personal business other',\n",
    "    9: \"other\",  #'Eat/drink with friends',\n",
    "    10: \"visit\",  #'Visit friends',\n",
    "    11: \"other\",  #'Other social',\n",
    "    12: \"other\",  #'Entertain/ public activity',\n",
    "    13: \"other\",  #'Sport: participate',\n",
    "    14: \"home\",  #'Holiday: base',\n",
    "    15: \"other\",  #'Day trip/just walk',\n",
    "    16: \"other\",  #'Other non-escort',\n",
    "    17: \"escort\",  #'Escort home',\n",
    "    18: \"escort\",  #'Escort work',\n",
    "    19: \"escort\",  #'Escort in course of work',\n",
    "    20: \"escort\",  #'Escort education',\n",
    "    21: \"escort\",  #'Escort shopping/personal business',\n",
    "    22: \"escort\",  #'Other escort',\n",
    "    23: \"home\",  #'Home',\n",
    "    -10: \"DEAD\",\n",
    "    -8: \"NA\",\n",
    "}\n",
    "\n",
    "travel_diaries[\"mode\"] = travel_diaries[\"mode\"].map(mode_mapping)\n",
    "travel_diaries[\"oact\"] = travel_diaries[\"oact\"].map(purp_mapping)\n",
    "travel_diaries[\"dact\"] = travel_diaries[\"dact\"].map(purp_mapping)\n",
    "travel_diaries.tst = travel_diaries.tst.astype(int)\n",
    "travel_diaries.tet = travel_diaries.tet.astype(int)\n",
    "\n",
    "travel_diaries.head()"
   ]
  },
  {
   "cell_type": "code",
   "execution_count": null,
   "metadata": {},
   "outputs": [],
   "source": [
    "population = read.load_travel_diary(\n",
    "    trips=travel_diaries, trip_freq_as_person_freq=True\n",
    ")"
   ]
  },
  {
   "cell_type": "code",
   "execution_count": null,
   "metadata": {},
   "outputs": [],
   "source": [
    "travel_diaries[travel_diaries.pid == \"2021010983-2\"]"
   ]
  },
  {
   "cell_type": "code",
   "execution_count": null,
   "metadata": {},
   "outputs": [],
   "source": [
    "population.stats"
   ]
  },
  {
   "cell_type": "code",
   "execution_count": null,
   "metadata": {},
   "outputs": [],
   "source": [
    "population.fix_plans()"
   ]
  },
  {
   "cell_type": "code",
   "execution_count": null,
   "metadata": {},
   "outputs": [],
   "source": [
    "population.stats"
   ]
  },
  {
   "cell_type": "code",
   "execution_count": null,
   "metadata": {},
   "outputs": [],
   "source": [
    "population[2021004804][\"2021010983-1\"].plot()\n",
    "population[2021004804][\"2021010983-2\"].plot()\n",
    "population[2021004804][\"2021010983-3\"].plot()"
   ]
  },
  {
   "cell_type": "code",
   "execution_count": null,
   "metadata": {},
   "outputs": [],
   "source": [
    "def dt_to_min(dt) -> int:\n",
    "    h, m, s = datetime_to_matsim_time(dt).split(\":\")\n",
    "    return (((int(h) * 60) + int(m)) * 60) + int(s)\n",
    "\n",
    "\n",
    "def write_trace(population) -> pd.DataFrame:\n",
    "    record = []\n",
    "    for uid, (hid, pid, person) in enumerate(population.people()):\n",
    "        for i in range(0, len(person.plan) - 1, 2):\n",
    "            record.append(\n",
    "                [\n",
    "                    uid,\n",
    "                    hid,\n",
    "                    person.plan[i].act,\n",
    "                    dt_to_min(person.plan[i].start_time),\n",
    "                    dt_to_min(person.plan[i + 1].end_time),\n",
    "                ]\n",
    "            )\n",
    "        record.append(\n",
    "            [\n",
    "                uid,\n",
    "                hid,\n",
    "                person.plan[-1].act,\n",
    "                dt_to_min(person.plan[-1].start_time),\n",
    "                dt_to_min(person.plan[-1].end_time),\n",
    "            ]\n",
    "        )\n",
    "\n",
    "    df = pd.DataFrame(record, columns=[\"pid\", \"hid\", \"act\", \"start\", \"end\"])\n",
    "    df[\"duration\"] = df.end - df.start\n",
    "    return df\n",
    "\n",
    "\n",
    "traces = write_trace(population=population)"
   ]
  },
  {
   "cell_type": "code",
   "execution_count": null,
   "metadata": {},
   "outputs": [],
   "source": [
    "traces.head()"
   ]
  },
  {
   "cell_type": "code",
   "execution_count": null,
   "metadata": {},
   "outputs": [],
   "source": [
    "len(traces)"
   ]
  },
  {
   "cell_type": "code",
   "execution_count": null,
   "metadata": {},
   "outputs": [],
   "source": [
    "traces = traces[traces.duration > 0]"
   ]
  },
  {
   "cell_type": "code",
   "execution_count": null,
   "metadata": {},
   "outputs": [],
   "source": [
    "traces[traces.duration < 0]"
   ]
  },
  {
   "cell_type": "code",
   "execution_count": null,
   "metadata": {},
   "outputs": [],
   "source": [
    "traces[traces.pid == \"2021000308-4\"]"
   ]
  },
  {
   "cell_type": "code",
   "execution_count": null,
   "metadata": {},
   "outputs": [],
   "source": [
    "population[2021000122][\"2021000308-4\"].print()"
   ]
  },
  {
   "cell_type": "code",
   "execution_count": null,
   "metadata": {},
   "outputs": [],
   "source": [
    "travel_diaries[travel_diaries.pid == \"2021000308-4\"]"
   ]
  },
  {
   "cell_type": "code",
   "execution_count": null,
   "metadata": {},
   "outputs": [],
   "source": [
    "traces.describe()"
   ]
  },
  {
   "cell_type": "code",
   "execution_count": null,
   "metadata": {},
   "outputs": [],
   "source": [
    "traces.to_csv(\"nts_population.csv\")"
   ]
  },
  {
   "cell_type": "code",
   "execution_count": null,
   "metadata": {},
   "outputs": [],
   "source": []
  }
 ],
 "metadata": {
  "kernelspec": {
   "display_name": "caveat",
   "language": "python",
   "name": "python3"
  },
  "language_info": {
   "codemirror_mode": {
    "name": "ipython",
    "version": 3
   },
   "file_extension": ".py",
   "mimetype": "text/x-python",
   "name": "python",
   "nbconvert_exporter": "python",
   "pygments_lexer": "ipython3",
   "version": "3.11.6"
  }
 },
 "nbformat": 4,
 "nbformat_minor": 2
}
